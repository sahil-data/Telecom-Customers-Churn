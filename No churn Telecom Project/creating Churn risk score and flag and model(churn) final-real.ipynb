{
 "cells": [
  {
   "cell_type": "markdown",
   "metadata": {},
   "source": [
    "# Business Problem: \n",
    "***Get insights from the dataset of No-Churn Telecom, to find out why the more Customers are leaving the company than expected and what can be done to improve the current situation***"
   ]
  },
  {
   "cell_type": "markdown",
   "metadata": {},
   "source": [
    "# Objective: \n",
    "- In this notebook we explore the Processed Data collected from and Create Churn_Risk_Score,Introduce new predicting variable churn_flag\n",
    "\n",
    "\n",
    "**Steps in Exploratory Data Analysis**\n",
    "\n",
    "Step 1 : Import the libraries\n",
    "\n",
    "Step 2 : Import the data-set\n",
    "\n",
    "Step 3 : Creating Churn Risk Score\n",
    "\n",
    "Step 4 :  Creating Churn Flag\n",
    "\n",
    "Step 5 : Model for Target--->Churn\n"
   ]
  },
  {
   "cell_type": "markdown",
   "metadata": {},
   "source": [
    "# Step 1 : Import the libraries"
   ]
  },
  {
   "cell_type": "code",
   "execution_count": 153,
   "metadata": {},
   "outputs": [],
   "source": [
    "# Import the libraries\n",
    "import numpy as np  #NumPy is the fundamental package for scientific computing with Python.\n",
    "import pandas as pd #andas is for data manipulation and analysis. \n",
    "import matplotlib.pyplot as plt #Matplotlib is a Python 2D plotting library which produces publication quality figures.\n",
    "import seaborn as sns #Seaborn is a Python data visualization library based on matplotlib\n",
    "%matplotlib inline\n",
    "import joblib "
   ]
  },
  {
   "cell_type": "markdown",
   "metadata": {},
   "source": [
    "# Step 2 : Import the data-set"
   ]
  },
  {
   "cell_type": "code",
   "execution_count": 43,
   "metadata": {},
   "outputs": [
    {
     "name": "stdout",
     "output_type": "stream",
     "text": [
      "(4617, 7)\n"
     ]
    },
    {
     "data": {
      "text/html": [
       "<div>\n",
       "<style scoped>\n",
       "    .dataframe tbody tr th:only-of-type {\n",
       "        vertical-align: middle;\n",
       "    }\n",
       "\n",
       "    .dataframe tbody tr th {\n",
       "        vertical-align: top;\n",
       "    }\n",
       "\n",
       "    .dataframe thead th {\n",
       "        text-align: right;\n",
       "    }\n",
       "</style>\n",
       "<table border=\"1\" class=\"dataframe\">\n",
       "  <thead>\n",
       "    <tr style=\"text-align: right;\">\n",
       "      <th></th>\n",
       "      <th>International_Plan</th>\n",
       "      <th>International_calls</th>\n",
       "      <th>International_Mins</th>\n",
       "      <th>VMail_Plan</th>\n",
       "      <th>Total_charges</th>\n",
       "      <th>CustServ_Calls</th>\n",
       "      <th>churn</th>\n",
       "    </tr>\n",
       "  </thead>\n",
       "  <tbody>\n",
       "    <tr>\n",
       "      <th>0</th>\n",
       "      <td>0</td>\n",
       "      <td>3</td>\n",
       "      <td>10.0</td>\n",
       "      <td>1</td>\n",
       "      <td>75.56</td>\n",
       "      <td>1</td>\n",
       "      <td>0</td>\n",
       "    </tr>\n",
       "    <tr>\n",
       "      <th>1</th>\n",
       "      <td>0</td>\n",
       "      <td>3</td>\n",
       "      <td>13.7</td>\n",
       "      <td>1</td>\n",
       "      <td>59.24</td>\n",
       "      <td>1</td>\n",
       "      <td>0</td>\n",
       "    </tr>\n",
       "    <tr>\n",
       "      <th>2</th>\n",
       "      <td>0</td>\n",
       "      <td>5</td>\n",
       "      <td>12.2</td>\n",
       "      <td>0</td>\n",
       "      <td>62.29</td>\n",
       "      <td>0</td>\n",
       "      <td>0</td>\n",
       "    </tr>\n",
       "    <tr>\n",
       "      <th>3</th>\n",
       "      <td>1</td>\n",
       "      <td>7</td>\n",
       "      <td>6.6</td>\n",
       "      <td>0</td>\n",
       "      <td>66.80</td>\n",
       "      <td>2</td>\n",
       "      <td>0</td>\n",
       "    </tr>\n",
       "    <tr>\n",
       "      <th>4</th>\n",
       "      <td>1</td>\n",
       "      <td>3</td>\n",
       "      <td>10.1</td>\n",
       "      <td>0</td>\n",
       "      <td>52.09</td>\n",
       "      <td>3</td>\n",
       "      <td>0</td>\n",
       "    </tr>\n",
       "  </tbody>\n",
       "</table>\n",
       "</div>"
      ],
      "text/plain": [
       "   International_Plan  International_calls  International_Mins  VMail_Plan  \\\n",
       "0                   0                    3                10.0           1   \n",
       "1                   0                    3                13.7           1   \n",
       "2                   0                    5                12.2           0   \n",
       "3                   1                    7                 6.6           0   \n",
       "4                   1                    3                10.1           0   \n",
       "\n",
       "   Total_charges  CustServ_Calls  churn  \n",
       "0          75.56               1      0  \n",
       "1          59.24               1      0  \n",
       "2          62.29               0      0  \n",
       "3          66.80               2      0  \n",
       "4          52.09               3      0  "
      ]
     },
     "execution_count": 43,
     "metadata": {},
     "output_type": "execute_result"
    }
   ],
   "source": [
    "#pd.set_option('display.height', 500)\n",
    "#pd.set_option('display.max_rows', 500)\n",
    "pd.set_option('display.max_columns', 500)\n",
    "df = pd.read_excel(\"No-Churn_Telecom_Europe_processed_final01.xlsx\")\n",
    "print(df.shape)\n",
    "df.head()"
   ]
  },
  {
   "cell_type": "markdown",
   "metadata": {},
   "source": [
    "# Step 3 : Creating Churn Risk Score"
   ]
  },
  {
   "cell_type": "markdown",
   "metadata": {},
   "source": [
    "![alt text](Logistic-Sigmoid-function.png \"Title\")"
   ]
  },
  {
   "cell_type": "code",
   "execution_count": 44,
   "metadata": {},
   "outputs": [],
   "source": [
    "df1 = df.copy()"
   ]
  },
  {
   "cell_type": "code",
   "execution_count": 45,
   "metadata": {},
   "outputs": [
    {
     "data": {
      "text/plain": [
       "Index(['International_Plan', 'International_calls', 'International_Mins',\n",
       "       'VMail_Plan', 'Total_charges', 'CustServ_Calls', 'churn'],\n",
       "      dtype='object')"
      ]
     },
     "execution_count": 45,
     "metadata": {},
     "output_type": "execute_result"
    }
   ],
   "source": [
    "df.columns"
   ]
  },
  {
   "cell_type": "code",
   "execution_count": 46,
   "metadata": {},
   "outputs": [],
   "source": [
    "df1['int'] = 1\n",
    "indep_var =['International_Plan', 'International_calls', 'International_Mins', 'VMail_Plan', 'Total_charges',\n",
    "       'CustServ_Calls','int', 'churn']\n",
    "df1 = df1[indep_var]"
   ]
  },
  {
   "cell_type": "code",
   "execution_count": 47,
   "metadata": {},
   "outputs": [
    {
     "data": {
      "text/plain": [
       "Index(['International_Plan', 'International_calls', 'International_Mins',\n",
       "       'VMail_Plan', 'Total_charges', 'CustServ_Calls', 'int', 'churn'],\n",
       "      dtype='object')"
      ]
     },
     "execution_count": 47,
     "metadata": {},
     "output_type": "execute_result"
    }
   ],
   "source": [
    "df1.columns"
   ]
  },
  {
   "cell_type": "code",
   "execution_count": 48,
   "metadata": {},
   "outputs": [],
   "source": [
    "# Create train and test splits\n",
    "target_name = 'churn'\n",
    "X = df1.drop('churn', axis=1)\n",
    "y = df1[target_name]"
   ]
  },
  {
   "cell_type": "code",
   "execution_count": 49,
   "metadata": {},
   "outputs": [
    {
     "name": "stdout",
     "output_type": "stream",
     "text": [
      "(3693, 7)\n",
      "(924, 7)\n",
      "(3693,)\n",
      "(924,)\n"
     ]
    }
   ],
   "source": [
    "from sklearn.model_selection import train_test_split\n",
    "X_train, X_test, y_train, y_test = train_test_split(X,y,test_size=0.20, random_state=123, stratify=y)\n",
    "print(X_train.shape)\n",
    "print(X_test.shape)\n",
    "print(y_train.shape)\n",
    "print(y_test.shape)"
   ]
  },
  {
   "cell_type": "markdown",
   "metadata": {},
   "source": [
    "### Finding Logistic Regression Coefficients:\n",
    "- It will be later used to find probability of customer to churn(churn_risk_score)"
   ]
  },
  {
   "cell_type": "code",
   "execution_count": 50,
   "metadata": {
    "scrolled": true
   },
   "outputs": [
    {
     "name": "stdout",
     "output_type": "stream",
     "text": [
      "Optimization terminated successfully.\n",
      "         Current function value: 0.321870\n",
      "         Iterations 7\n"
     ]
    },
    {
     "data": {
      "text/plain": [
       "International_Plan     2.081353\n",
       "International_calls   -0.057075\n",
       "International_Mins     0.066189\n",
       "VMail_Plan            -1.064314\n",
       "Total_charges          0.078957\n",
       "CustServ_Calls         0.517306\n",
       "int                   -8.168612\n",
       "dtype: float64"
      ]
     },
     "execution_count": 50,
     "metadata": {},
     "output_type": "execute_result"
    }
   ],
   "source": [
    "import statsmodels.api as sm\n",
    "eight = ['International_Plan', 'International_calls', 'International_Mins', 'VMail_Plan', 'Total_charges',\n",
    "       'CustServ_Calls', 'int']\n",
    "logReg = sm.Logit(y_train, X_train[eight])\n",
    "answer = logReg.fit()\n",
    "\n",
    "answer.summary\n",
    "answer.params"
   ]
  },
  {
   "cell_type": "markdown",
   "metadata": {},
   "source": [
    "- The values above are the coefficient assigned to each independent variable. The constant(int) -8.223920 represents the effect of all uncontrollable variables."
   ]
  },
  {
   "cell_type": "raw",
   "metadata": {},
   "source": []
  },
  {
   "cell_type": "markdown",
   "metadata": {},
   "source": [
    "#### Create function to compute coefficients"
   ]
  },
  {
   "cell_type": "code",
   "execution_count": 51,
   "metadata": {},
   "outputs": [
    {
     "name": "stdout",
     "output_type": "stream",
     "text": [
      "A Customer with given parameters has a 69.94860838234864% chance of churn.\n"
     ]
    }
   ],
   "source": [
    "coef = answer.params\n",
    "def y (coef, International_Plan, International_calls, International_Mins,  \n",
    "       VMail_Plan,      \n",
    "       Total_charges,          \n",
    "       CustServ_Calls) : \n",
    "    return coef[6] + coef[0]*International_Plan +coef[1]*International_calls +coef[2]*International_Mins +coef[3]*VMail_Plan +coef[4]*Total_charges +coef[5]*CustServ_Calls \n",
    "\n",
    "import numpy as np\n",
    "\n",
    "\n",
    "y1 = y(coef, 0,3,10,1,75.56,7)\n",
    "p = np.exp(y1) / (1+np.exp(y1))\n",
    "print(f'A Customer with given parameters has a {p*100}% chance of churn.')"
   ]
  },
  {
   "cell_type": "code",
   "execution_count": 52,
   "metadata": {
    "scrolled": true
   },
   "outputs": [
    {
     "data": {
      "text/html": [
       "<div>\n",
       "<style scoped>\n",
       "    .dataframe tbody tr th:only-of-type {\n",
       "        vertical-align: middle;\n",
       "    }\n",
       "\n",
       "    .dataframe tbody tr th {\n",
       "        vertical-align: top;\n",
       "    }\n",
       "\n",
       "    .dataframe thead th {\n",
       "        text-align: right;\n",
       "    }\n",
       "</style>\n",
       "<table border=\"1\" class=\"dataframe\">\n",
       "  <thead>\n",
       "    <tr style=\"text-align: right;\">\n",
       "      <th></th>\n",
       "      <th>International_Plan</th>\n",
       "      <th>International_calls</th>\n",
       "      <th>International_Mins</th>\n",
       "      <th>VMail_Plan</th>\n",
       "      <th>Total_charges</th>\n",
       "      <th>CustServ_Calls</th>\n",
       "      <th>int</th>\n",
       "      <th>churn</th>\n",
       "    </tr>\n",
       "  </thead>\n",
       "  <tbody>\n",
       "    <tr>\n",
       "      <th>0</th>\n",
       "      <td>0</td>\n",
       "      <td>3</td>\n",
       "      <td>10.0</td>\n",
       "      <td>1</td>\n",
       "      <td>75.56</td>\n",
       "      <td>1</td>\n",
       "      <td>1</td>\n",
       "      <td>0</td>\n",
       "    </tr>\n",
       "    <tr>\n",
       "      <th>1</th>\n",
       "      <td>0</td>\n",
       "      <td>3</td>\n",
       "      <td>13.7</td>\n",
       "      <td>1</td>\n",
       "      <td>59.24</td>\n",
       "      <td>1</td>\n",
       "      <td>1</td>\n",
       "      <td>0</td>\n",
       "    </tr>\n",
       "    <tr>\n",
       "      <th>2</th>\n",
       "      <td>0</td>\n",
       "      <td>5</td>\n",
       "      <td>12.2</td>\n",
       "      <td>0</td>\n",
       "      <td>62.29</td>\n",
       "      <td>0</td>\n",
       "      <td>1</td>\n",
       "      <td>0</td>\n",
       "    </tr>\n",
       "  </tbody>\n",
       "</table>\n",
       "</div>"
      ],
      "text/plain": [
       "   International_Plan  International_calls  International_Mins  VMail_Plan  \\\n",
       "0                   0                    3                10.0           1   \n",
       "1                   0                    3                13.7           1   \n",
       "2                   0                    5                12.2           0   \n",
       "\n",
       "   Total_charges  CustServ_Calls  int  churn  \n",
       "0          75.56               1    1      0  \n",
       "1          59.24               1    1      0  \n",
       "2          62.29               0    1      0  "
      ]
     },
     "execution_count": 52,
     "metadata": {},
     "output_type": "execute_result"
    }
   ],
   "source": [
    "df1.head(3)"
   ]
  },
  {
   "cell_type": "raw",
   "metadata": {},
   "source": [
    "(coef, International_Plan, International_calls, International_Mins, International_Charge,  \n",
    "       VMail_Plan, VMail_Message,           \n",
    "       Total_charges,          \n",
    "       CustServ_Calls)"
   ]
  },
  {
   "cell_type": "code",
   "execution_count": 53,
   "metadata": {
    "scrolled": true
   },
   "outputs": [],
   "source": [
    "df1['churn_score'] = df1.apply(lambda row : y(coef,row['International_Plan'],row['International_calls'] ,\n",
    "                                              row['International_Mins'] ,\n",
    "                                              row['VMail_Plan'] ,\n",
    "                                             row['Total_charges'],row['CustServ_Calls']),axis=1)  "
   ]
  },
  {
   "cell_type": "raw",
   "metadata": {},
   "source": []
  },
  {
   "cell_type": "markdown",
   "metadata": {},
   "source": [
    "#### Defining Function for finding 'churn_Risk_score' of all customers"
   ]
  },
  {
   "cell_type": "code",
   "execution_count": 54,
   "metadata": {},
   "outputs": [],
   "source": [
    "\n",
    "def final_churn_score(y1):\n",
    "    return np.exp(y1) / (1+np.exp(y1))"
   ]
  },
  {
   "cell_type": "code",
   "execution_count": 55,
   "metadata": {},
   "outputs": [],
   "source": [
    "# Using lambda to map to all customers\n",
    "df1['churn_Risk_score'] = df1.apply(lambda row : final_churn_score(row['churn_score']) ,axis=1)"
   ]
  },
  {
   "cell_type": "code",
   "execution_count": 56,
   "metadata": {},
   "outputs": [],
   "source": [
    "df1 = df1.drop('churn_score',axis=1)\n",
    "df1 = df1.drop('int',axis=1)"
   ]
  },
  {
   "cell_type": "code",
   "execution_count": 57,
   "metadata": {
    "scrolled": false
   },
   "outputs": [
    {
     "data": {
      "text/html": [
       "<div>\n",
       "<style scoped>\n",
       "    .dataframe tbody tr th:only-of-type {\n",
       "        vertical-align: middle;\n",
       "    }\n",
       "\n",
       "    .dataframe tbody tr th {\n",
       "        vertical-align: top;\n",
       "    }\n",
       "\n",
       "    .dataframe thead th {\n",
       "        text-align: right;\n",
       "    }\n",
       "</style>\n",
       "<table border=\"1\" class=\"dataframe\">\n",
       "  <thead>\n",
       "    <tr style=\"text-align: right;\">\n",
       "      <th></th>\n",
       "      <th>International_Plan</th>\n",
       "      <th>International_calls</th>\n",
       "      <th>International_Mins</th>\n",
       "      <th>VMail_Plan</th>\n",
       "      <th>Total_charges</th>\n",
       "      <th>CustServ_Calls</th>\n",
       "      <th>churn</th>\n",
       "      <th>churn_Risk_score</th>\n",
       "    </tr>\n",
       "  </thead>\n",
       "  <tbody>\n",
       "    <tr>\n",
       "      <th>0</th>\n",
       "      <td>0</td>\n",
       "      <td>3</td>\n",
       "      <td>10.0</td>\n",
       "      <td>1</td>\n",
       "      <td>75.56</td>\n",
       "      <td>1</td>\n",
       "      <td>0</td>\n",
       "      <td>0.094578</td>\n",
       "    </tr>\n",
       "    <tr>\n",
       "      <th>1</th>\n",
       "      <td>0</td>\n",
       "      <td>3</td>\n",
       "      <td>13.7</td>\n",
       "      <td>1</td>\n",
       "      <td>59.24</td>\n",
       "      <td>1</td>\n",
       "      <td>0</td>\n",
       "      <td>0.035480</td>\n",
       "    </tr>\n",
       "    <tr>\n",
       "      <th>2</th>\n",
       "      <td>0</td>\n",
       "      <td>5</td>\n",
       "      <td>12.2</td>\n",
       "      <td>0</td>\n",
       "      <td>62.29</td>\n",
       "      <td>0</td>\n",
       "      <td>0</td>\n",
       "      <td>0.061326</td>\n",
       "    </tr>\n",
       "    <tr>\n",
       "      <th>3</th>\n",
       "      <td>1</td>\n",
       "      <td>7</td>\n",
       "      <td>6.6</td>\n",
       "      <td>0</td>\n",
       "      <td>66.80</td>\n",
       "      <td>2</td>\n",
       "      <td>0</td>\n",
       "      <td>0.564387</td>\n",
       "    </tr>\n",
       "    <tr>\n",
       "      <th>4</th>\n",
       "      <td>1</td>\n",
       "      <td>3</td>\n",
       "      <td>10.1</td>\n",
       "      <td>0</td>\n",
       "      <td>52.09</td>\n",
       "      <td>3</td>\n",
       "      <td>0</td>\n",
       "      <td>0.518692</td>\n",
       "    </tr>\n",
       "  </tbody>\n",
       "</table>\n",
       "</div>"
      ],
      "text/plain": [
       "   International_Plan  International_calls  International_Mins  VMail_Plan  \\\n",
       "0                   0                    3                10.0           1   \n",
       "1                   0                    3                13.7           1   \n",
       "2                   0                    5                12.2           0   \n",
       "3                   1                    7                 6.6           0   \n",
       "4                   1                    3                10.1           0   \n",
       "\n",
       "   Total_charges  CustServ_Calls  churn  churn_Risk_score  \n",
       "0          75.56               1      0          0.094578  \n",
       "1          59.24               1      0          0.035480  \n",
       "2          62.29               0      0          0.061326  \n",
       "3          66.80               2      0          0.564387  \n",
       "4          52.09               3      0          0.518692  "
      ]
     },
     "execution_count": 57,
     "metadata": {},
     "output_type": "execute_result"
    }
   ],
   "source": [
    "pd.set_option('display.max_rows', 500)\n",
    "df1.head()"
   ]
  },
  {
   "cell_type": "code",
   "execution_count": 58,
   "metadata": {
    "scrolled": true
   },
   "outputs": [
    {
     "data": {
      "text/plain": [
       "0       0.094578\n",
       "1       0.035480\n",
       "2       0.061326\n",
       "3       0.564387\n",
       "4       0.518692\n",
       "          ...   \n",
       "4612    0.028569\n",
       "4613    0.229311\n",
       "4614    0.034345\n",
       "4615    0.022343\n",
       "4616    0.120946\n",
       "Name: churn_Risk_score, Length: 4617, dtype: float64"
      ]
     },
     "execution_count": 58,
     "metadata": {},
     "output_type": "execute_result"
    }
   ],
   "source": [
    "Churn_Risk_Score= df1['churn_Risk_score']\n",
    "Churn_Risk_Score"
   ]
  },
  {
   "cell_type": "markdown",
   "metadata": {},
   "source": [
    "- churn_Risk_score is successfully created"
   ]
  },
  {
   "cell_type": "code",
   "execution_count": 59,
   "metadata": {},
   "outputs": [],
   "source": [
    "df_churnRS = df1.copy()"
   ]
  },
  {
   "cell_type": "code",
   "execution_count": 60,
   "metadata": {},
   "outputs": [
    {
     "data": {
      "text/html": [
       "<div>\n",
       "<style scoped>\n",
       "    .dataframe tbody tr th:only-of-type {\n",
       "        vertical-align: middle;\n",
       "    }\n",
       "\n",
       "    .dataframe tbody tr th {\n",
       "        vertical-align: top;\n",
       "    }\n",
       "\n",
       "    .dataframe thead th {\n",
       "        text-align: right;\n",
       "    }\n",
       "</style>\n",
       "<table border=\"1\" class=\"dataframe\">\n",
       "  <thead>\n",
       "    <tr style=\"text-align: right;\">\n",
       "      <th></th>\n",
       "      <th>International_Plan</th>\n",
       "      <th>International_calls</th>\n",
       "      <th>International_Mins</th>\n",
       "      <th>VMail_Plan</th>\n",
       "      <th>Total_charges</th>\n",
       "      <th>CustServ_Calls</th>\n",
       "      <th>churn</th>\n",
       "      <th>churn_Risk_score</th>\n",
       "    </tr>\n",
       "  </thead>\n",
       "  <tbody>\n",
       "    <tr>\n",
       "      <th>0</th>\n",
       "      <td>0</td>\n",
       "      <td>3</td>\n",
       "      <td>10.0</td>\n",
       "      <td>1</td>\n",
       "      <td>75.56</td>\n",
       "      <td>1</td>\n",
       "      <td>0</td>\n",
       "      <td>0.094578</td>\n",
       "    </tr>\n",
       "    <tr>\n",
       "      <th>1</th>\n",
       "      <td>0</td>\n",
       "      <td>3</td>\n",
       "      <td>13.7</td>\n",
       "      <td>1</td>\n",
       "      <td>59.24</td>\n",
       "      <td>1</td>\n",
       "      <td>0</td>\n",
       "      <td>0.035480</td>\n",
       "    </tr>\n",
       "    <tr>\n",
       "      <th>2</th>\n",
       "      <td>0</td>\n",
       "      <td>5</td>\n",
       "      <td>12.2</td>\n",
       "      <td>0</td>\n",
       "      <td>62.29</td>\n",
       "      <td>0</td>\n",
       "      <td>0</td>\n",
       "      <td>0.061326</td>\n",
       "    </tr>\n",
       "    <tr>\n",
       "      <th>3</th>\n",
       "      <td>1</td>\n",
       "      <td>7</td>\n",
       "      <td>6.6</td>\n",
       "      <td>0</td>\n",
       "      <td>66.80</td>\n",
       "      <td>2</td>\n",
       "      <td>0</td>\n",
       "      <td>0.564387</td>\n",
       "    </tr>\n",
       "    <tr>\n",
       "      <th>4</th>\n",
       "      <td>1</td>\n",
       "      <td>3</td>\n",
       "      <td>10.1</td>\n",
       "      <td>0</td>\n",
       "      <td>52.09</td>\n",
       "      <td>3</td>\n",
       "      <td>0</td>\n",
       "      <td>0.518692</td>\n",
       "    </tr>\n",
       "    <tr>\n",
       "      <th>...</th>\n",
       "      <td>...</td>\n",
       "      <td>...</td>\n",
       "      <td>...</td>\n",
       "      <td>...</td>\n",
       "      <td>...</td>\n",
       "      <td>...</td>\n",
       "      <td>...</td>\n",
       "      <td>...</td>\n",
       "    </tr>\n",
       "    <tr>\n",
       "      <th>4612</th>\n",
       "      <td>0</td>\n",
       "      <td>6</td>\n",
       "      <td>8.5</td>\n",
       "      <td>1</td>\n",
       "      <td>49.83</td>\n",
       "      <td>3</td>\n",
       "      <td>0</td>\n",
       "      <td>0.028569</td>\n",
       "    </tr>\n",
       "    <tr>\n",
       "      <th>4613</th>\n",
       "      <td>0</td>\n",
       "      <td>1</td>\n",
       "      <td>15.7</td>\n",
       "      <td>1</td>\n",
       "      <td>69.49</td>\n",
       "      <td>3</td>\n",
       "      <td>0</td>\n",
       "      <td>0.229311</td>\n",
       "    </tr>\n",
       "    <tr>\n",
       "      <th>4614</th>\n",
       "      <td>0</td>\n",
       "      <td>3</td>\n",
       "      <td>13.0</td>\n",
       "      <td>1</td>\n",
       "      <td>59.40</td>\n",
       "      <td>1</td>\n",
       "      <td>0</td>\n",
       "      <td>0.034345</td>\n",
       "    </tr>\n",
       "    <tr>\n",
       "      <th>4615</th>\n",
       "      <td>0</td>\n",
       "      <td>3</td>\n",
       "      <td>14.3</td>\n",
       "      <td>1</td>\n",
       "      <td>59.26</td>\n",
       "      <td>0</td>\n",
       "      <td>0</td>\n",
       "      <td>0.022343</td>\n",
       "    </tr>\n",
       "    <tr>\n",
       "      <th>4616</th>\n",
       "      <td>0</td>\n",
       "      <td>4</td>\n",
       "      <td>12.1</td>\n",
       "      <td>0</td>\n",
       "      <td>57.98</td>\n",
       "      <td>2</td>\n",
       "      <td>0</td>\n",
       "      <td>0.120946</td>\n",
       "    </tr>\n",
       "  </tbody>\n",
       "</table>\n",
       "<p>4617 rows × 8 columns</p>\n",
       "</div>"
      ],
      "text/plain": [
       "      International_Plan  International_calls  International_Mins  VMail_Plan  \\\n",
       "0                      0                    3                10.0           1   \n",
       "1                      0                    3                13.7           1   \n",
       "2                      0                    5                12.2           0   \n",
       "3                      1                    7                 6.6           0   \n",
       "4                      1                    3                10.1           0   \n",
       "...                  ...                  ...                 ...         ...   \n",
       "4612                   0                    6                 8.5           1   \n",
       "4613                   0                    1                15.7           1   \n",
       "4614                   0                    3                13.0           1   \n",
       "4615                   0                    3                14.3           1   \n",
       "4616                   0                    4                12.1           0   \n",
       "\n",
       "      Total_charges  CustServ_Calls  churn  churn_Risk_score  \n",
       "0             75.56               1      0          0.094578  \n",
       "1             59.24               1      0          0.035480  \n",
       "2             62.29               0      0          0.061326  \n",
       "3             66.80               2      0          0.564387  \n",
       "4             52.09               3      0          0.518692  \n",
       "...             ...             ...    ...               ...  \n",
       "4612          49.83               3      0          0.028569  \n",
       "4613          69.49               3      0          0.229311  \n",
       "4614          59.40               1      0          0.034345  \n",
       "4615          59.26               0      0          0.022343  \n",
       "4616          57.98               2      0          0.120946  \n",
       "\n",
       "[4617 rows x 8 columns]"
      ]
     },
     "execution_count": 60,
     "metadata": {},
     "output_type": "execute_result"
    }
   ],
   "source": [
    "df_churnRS "
   ]
  },
  {
   "cell_type": "code",
   "execution_count": 61,
   "metadata": {},
   "outputs": [
    {
     "name": "stdout",
     "output_type": "stream",
     "text": [
      "(4617, 21)\n"
     ]
    },
    {
     "data": {
      "text/html": [
       "<div>\n",
       "<style scoped>\n",
       "    .dataframe tbody tr th:only-of-type {\n",
       "        vertical-align: middle;\n",
       "    }\n",
       "\n",
       "    .dataframe tbody tr th {\n",
       "        vertical-align: top;\n",
       "    }\n",
       "\n",
       "    .dataframe thead th {\n",
       "        text-align: right;\n",
       "    }\n",
       "</style>\n",
       "<table border=\"1\" class=\"dataframe\">\n",
       "  <thead>\n",
       "    <tr style=\"text-align: right;\">\n",
       "      <th></th>\n",
       "      <th>State</th>\n",
       "      <th>Account_Length</th>\n",
       "      <th>Area_Code</th>\n",
       "      <th>Phone</th>\n",
       "      <th>International_Plan</th>\n",
       "      <th>VMail_Plan</th>\n",
       "      <th>VMail_Message</th>\n",
       "      <th>Day_Mins</th>\n",
       "      <th>Day_Calls</th>\n",
       "      <th>Day_Charge</th>\n",
       "      <th>Eve_Mins</th>\n",
       "      <th>Eve_Calls</th>\n",
       "      <th>Eve_Charge</th>\n",
       "      <th>Night_Mins</th>\n",
       "      <th>Night_Calls</th>\n",
       "      <th>Night_Charge</th>\n",
       "      <th>International_Mins</th>\n",
       "      <th>International_calls</th>\n",
       "      <th>International_Charge</th>\n",
       "      <th>CustServ_Calls</th>\n",
       "      <th>churn</th>\n",
       "    </tr>\n",
       "  </thead>\n",
       "  <tbody>\n",
       "    <tr>\n",
       "      <th>0</th>\n",
       "      <td>KS</td>\n",
       "      <td>128</td>\n",
       "      <td>415</td>\n",
       "      <td>382-4657</td>\n",
       "      <td>no</td>\n",
       "      <td>yes</td>\n",
       "      <td>25</td>\n",
       "      <td>265.1</td>\n",
       "      <td>110</td>\n",
       "      <td>45.07</td>\n",
       "      <td>197.4</td>\n",
       "      <td>99</td>\n",
       "      <td>16.78</td>\n",
       "      <td>244.7</td>\n",
       "      <td>91</td>\n",
       "      <td>11.01</td>\n",
       "      <td>10.0</td>\n",
       "      <td>3</td>\n",
       "      <td>2.7</td>\n",
       "      <td>1</td>\n",
       "      <td>False.</td>\n",
       "    </tr>\n",
       "  </tbody>\n",
       "</table>\n",
       "</div>"
      ],
      "text/plain": [
       "  State  Account_Length  Area_Code      Phone International_Plan VMail_Plan  \\\n",
       "0    KS             128        415   382-4657                 no        yes   \n",
       "\n",
       "   VMail_Message  Day_Mins  Day_Calls  Day_Charge  Eve_Mins  Eve_Calls  \\\n",
       "0             25     265.1        110       45.07     197.4         99   \n",
       "\n",
       "   Eve_Charge  Night_Mins  Night_Calls  Night_Charge  International_Mins  \\\n",
       "0       16.78       244.7           91         11.01                10.0   \n",
       "\n",
       "   International_calls  International_Charge  CustServ_Calls    churn  \n",
       "0                    3                   2.7               1   False.  "
      ]
     },
     "execution_count": 61,
     "metadata": {},
     "output_type": "execute_result"
    }
   ],
   "source": [
    "#pd.set_option('display.height', 500)\n",
    "#pd.set_option('display.max_rows', 500)\n",
    "pd.set_option('display.max_columns', 500)\n",
    "df_raw = pd.read_excel('No-Churn_Telecom_Europe_renamed.xlsx')\n",
    "print(df_raw.shape)\n",
    "df_raw.head(1)"
   ]
  },
  {
   "cell_type": "code",
   "execution_count": 62,
   "metadata": {},
   "outputs": [],
   "source": [
    "Customer_Phone =df_raw.Phone"
   ]
  },
  {
   "cell_type": "code",
   "execution_count": 63,
   "metadata": {
    "scrolled": true
   },
   "outputs": [
    {
     "data": {
      "text/html": [
       "<div>\n",
       "<style scoped>\n",
       "    .dataframe tbody tr th:only-of-type {\n",
       "        vertical-align: middle;\n",
       "    }\n",
       "\n",
       "    .dataframe tbody tr th {\n",
       "        vertical-align: top;\n",
       "    }\n",
       "\n",
       "    .dataframe thead th {\n",
       "        text-align: right;\n",
       "    }\n",
       "</style>\n",
       "<table border=\"1\" class=\"dataframe\">\n",
       "  <thead>\n",
       "    <tr style=\"text-align: right;\">\n",
       "      <th></th>\n",
       "      <th>Phone</th>\n",
       "      <th>churn_Risk_score</th>\n",
       "    </tr>\n",
       "  </thead>\n",
       "  <tbody>\n",
       "    <tr>\n",
       "      <th>0</th>\n",
       "      <td>382-4657</td>\n",
       "      <td>0.094578</td>\n",
       "    </tr>\n",
       "    <tr>\n",
       "      <th>1</th>\n",
       "      <td>371-7191</td>\n",
       "      <td>0.035480</td>\n",
       "    </tr>\n",
       "    <tr>\n",
       "      <th>2</th>\n",
       "      <td>358-1921</td>\n",
       "      <td>0.061326</td>\n",
       "    </tr>\n",
       "    <tr>\n",
       "      <th>3</th>\n",
       "      <td>375-9999</td>\n",
       "      <td>0.564387</td>\n",
       "    </tr>\n",
       "    <tr>\n",
       "      <th>4</th>\n",
       "      <td>330-6626</td>\n",
       "      <td>0.518692</td>\n",
       "    </tr>\n",
       "    <tr>\n",
       "      <th>...</th>\n",
       "      <td>...</td>\n",
       "      <td>...</td>\n",
       "    </tr>\n",
       "    <tr>\n",
       "      <th>4612</th>\n",
       "      <td>345-7512</td>\n",
       "      <td>0.028569</td>\n",
       "    </tr>\n",
       "    <tr>\n",
       "      <th>4613</th>\n",
       "      <td>343-6820</td>\n",
       "      <td>0.229311</td>\n",
       "    </tr>\n",
       "    <tr>\n",
       "      <th>4614</th>\n",
       "      <td>338-4794</td>\n",
       "      <td>0.034345</td>\n",
       "    </tr>\n",
       "    <tr>\n",
       "      <th>4615</th>\n",
       "      <td>355-8388</td>\n",
       "      <td>0.022343</td>\n",
       "    </tr>\n",
       "    <tr>\n",
       "      <th>4616</th>\n",
       "      <td>409-6884</td>\n",
       "      <td>0.120946</td>\n",
       "    </tr>\n",
       "  </tbody>\n",
       "</table>\n",
       "<p>4617 rows × 2 columns</p>\n",
       "</div>"
      ],
      "text/plain": [
       "          Phone  churn_Risk_score\n",
       "0      382-4657          0.094578\n",
       "1      371-7191          0.035480\n",
       "2      358-1921          0.061326\n",
       "3      375-9999          0.564387\n",
       "4      330-6626          0.518692\n",
       "...         ...               ...\n",
       "4612   345-7512          0.028569\n",
       "4613   343-6820          0.229311\n",
       "4614   338-4794          0.034345\n",
       "4615   355-8388          0.022343\n",
       "4616   409-6884          0.120946\n",
       "\n",
       "[4617 rows x 2 columns]"
      ]
     },
     "execution_count": 63,
     "metadata": {},
     "output_type": "execute_result"
    }
   ],
   "source": [
    "Churn_Risk_Score_Customers =  pd.concat([Customer_Phone, Churn_Risk_Score], axis=1)\n",
    "Churn_Risk_Score_Customers"
   ]
  },
  {
   "cell_type": "markdown",
   "metadata": {},
   "source": [
    "## Churn risk scores: To drive retention campaigns.\n",
    "\n",
    "With the logistic regression model, we can now use our Churn risk scores to decide in which zone customer belongs to and take required action accordingly.Each zone is explain here:\n",
    "\n",
    "Churn risk score(0-0.3)\n",
    "- Safe Zone **<font color='green'>(Green)</font>** –  Customers within this zone are considered safe.\n",
    "\n",
    "Churn risk score(0.3-0.5)\n",
    "- Low Risk Zone **<font color='yellow'>(Yellow)</font>** –  Customers within this zone are too be taken into consideration of potential churn. This is more of a long-term track.\n",
    "\n",
    "Churn risk score(0.5-0.8)\n",
    "- Medium Risk Zone **<font color='orange'>(Orange)</font>** – Customers within this zone are at risk of churn. Action should be taken and monitored accordingly.\n",
    "\n",
    "Churn risk score(>0.8)\n",
    "- High Risk Zone **<font color='red'>(Red)</font>** – Customers within this zone are considered to have the highest chance of turnover. Action should be taken immediately."
   ]
  },
  {
   "cell_type": "markdown",
   "metadata": {},
   "source": [
    "#### Using Pandas Library save this DataFrame having churn_Risk_score, to excel for further easy retrieval"
   ]
  },
  {
   "cell_type": "code",
   "execution_count": 64,
   "metadata": {},
   "outputs": [],
   "source": [
    "Churn_Risk_Score_Customers.to_excel(\"No-Churn_Telecom_Europe_Phone&churnRiskScore_only_final00.xlsx\",index=False)"
   ]
  },
  {
   "cell_type": "raw",
   "metadata": {},
   "source": []
  },
  {
   "cell_type": "markdown",
   "metadata": {},
   "source": [
    "# Step 4 :  Creating Churn Flag"
   ]
  },
  {
   "cell_type": "code",
   "execution_count": 65,
   "metadata": {},
   "outputs": [],
   "source": [
    "def churn_flag(df) :\n",
    "    \n",
    "    if df[\"churn_Risk_score\"] < 0.49 :\n",
    "        return 0\n",
    "    else:\n",
    "        return 1\n",
    "df1[\"churn_flag\"] = df1.apply(lambda df1:churn_flag(df1),\n",
    "                                      axis = 1)"
   ]
  },
  {
   "cell_type": "code",
   "execution_count": 66,
   "metadata": {
    "scrolled": true
   },
   "outputs": [
    {
     "data": {
      "text/html": [
       "<div>\n",
       "<style scoped>\n",
       "    .dataframe tbody tr th:only-of-type {\n",
       "        vertical-align: middle;\n",
       "    }\n",
       "\n",
       "    .dataframe tbody tr th {\n",
       "        vertical-align: top;\n",
       "    }\n",
       "\n",
       "    .dataframe thead th {\n",
       "        text-align: right;\n",
       "    }\n",
       "</style>\n",
       "<table border=\"1\" class=\"dataframe\">\n",
       "  <thead>\n",
       "    <tr style=\"text-align: right;\">\n",
       "      <th></th>\n",
       "      <th>International_Plan</th>\n",
       "      <th>International_calls</th>\n",
       "      <th>International_Mins</th>\n",
       "      <th>VMail_Plan</th>\n",
       "      <th>Total_charges</th>\n",
       "      <th>CustServ_Calls</th>\n",
       "      <th>churn</th>\n",
       "      <th>churn_Risk_score</th>\n",
       "      <th>churn_flag</th>\n",
       "    </tr>\n",
       "  </thead>\n",
       "  <tbody>\n",
       "    <tr>\n",
       "      <th>0</th>\n",
       "      <td>0</td>\n",
       "      <td>3</td>\n",
       "      <td>10.0</td>\n",
       "      <td>1</td>\n",
       "      <td>75.56</td>\n",
       "      <td>1</td>\n",
       "      <td>0</td>\n",
       "      <td>0.094578</td>\n",
       "      <td>0</td>\n",
       "    </tr>\n",
       "    <tr>\n",
       "      <th>1</th>\n",
       "      <td>0</td>\n",
       "      <td>3</td>\n",
       "      <td>13.7</td>\n",
       "      <td>1</td>\n",
       "      <td>59.24</td>\n",
       "      <td>1</td>\n",
       "      <td>0</td>\n",
       "      <td>0.035480</td>\n",
       "      <td>0</td>\n",
       "    </tr>\n",
       "    <tr>\n",
       "      <th>2</th>\n",
       "      <td>0</td>\n",
       "      <td>5</td>\n",
       "      <td>12.2</td>\n",
       "      <td>0</td>\n",
       "      <td>62.29</td>\n",
       "      <td>0</td>\n",
       "      <td>0</td>\n",
       "      <td>0.061326</td>\n",
       "      <td>0</td>\n",
       "    </tr>\n",
       "    <tr>\n",
       "      <th>3</th>\n",
       "      <td>1</td>\n",
       "      <td>7</td>\n",
       "      <td>6.6</td>\n",
       "      <td>0</td>\n",
       "      <td>66.80</td>\n",
       "      <td>2</td>\n",
       "      <td>0</td>\n",
       "      <td>0.564387</td>\n",
       "      <td>1</td>\n",
       "    </tr>\n",
       "    <tr>\n",
       "      <th>4</th>\n",
       "      <td>1</td>\n",
       "      <td>3</td>\n",
       "      <td>10.1</td>\n",
       "      <td>0</td>\n",
       "      <td>52.09</td>\n",
       "      <td>3</td>\n",
       "      <td>0</td>\n",
       "      <td>0.518692</td>\n",
       "      <td>1</td>\n",
       "    </tr>\n",
       "  </tbody>\n",
       "</table>\n",
       "</div>"
      ],
      "text/plain": [
       "   International_Plan  International_calls  International_Mins  VMail_Plan  \\\n",
       "0                   0                    3                10.0           1   \n",
       "1                   0                    3                13.7           1   \n",
       "2                   0                    5                12.2           0   \n",
       "3                   1                    7                 6.6           0   \n",
       "4                   1                    3                10.1           0   \n",
       "\n",
       "   Total_charges  CustServ_Calls  churn  churn_Risk_score  churn_flag  \n",
       "0          75.56               1      0          0.094578           0  \n",
       "1          59.24               1      0          0.035480           0  \n",
       "2          62.29               0      0          0.061326           0  \n",
       "3          66.80               2      0          0.564387           1  \n",
       "4          52.09               3      0          0.518692           1  "
      ]
     },
     "execution_count": 66,
     "metadata": {},
     "output_type": "execute_result"
    }
   ],
   "source": [
    "pd.set_option('display.max_rows', 500)\n",
    "df1.head()"
   ]
  },
  {
   "cell_type": "code",
   "execution_count": 67,
   "metadata": {},
   "outputs": [
    {
     "data": {
      "text/plain": [
       "Index(['International_Plan', 'International_calls', 'International_Mins',\n",
       "       'VMail_Plan', 'Total_charges', 'CustServ_Calls', 'churn',\n",
       "       'churn_Risk_score', 'churn_flag'],\n",
       "      dtype='object')"
      ]
     },
     "execution_count": 67,
     "metadata": {},
     "output_type": "execute_result"
    }
   ],
   "source": [
    "df1.columns"
   ]
  },
  {
   "cell_type": "code",
   "execution_count": 68,
   "metadata": {},
   "outputs": [],
   "source": [
    "df_churn_flag = df1[['International_Plan', 'International_calls', 'International_Mins',\n",
    "       'VMail_Plan', 'Total_charges', 'CustServ_Calls','churn_flag']]"
   ]
  },
  {
   "cell_type": "code",
   "execution_count": 69,
   "metadata": {},
   "outputs": [],
   "source": [
    "#Using Pandas Library save this renamed data to excel for further easy retrieval\n",
    "df_churn_flag.to_excel(\"No-Churn_Telecom_Europe_churnFlag_only_final01.xlsx\",index=False)"
   ]
  },
  {
   "cell_type": "code",
   "execution_count": 70,
   "metadata": {
    "scrolled": true
   },
   "outputs": [
    {
     "name": "stdout",
     "output_type": "stream",
     "text": [
      "(258, 9)\n"
     ]
    }
   ],
   "source": [
    "df_churn_flag_1 = df1[df1['churn_flag'] ==1]\n",
    "print(df_churn_flag_1.shape)"
   ]
  },
  {
   "cell_type": "code",
   "execution_count": 71,
   "metadata": {
    "scrolled": true
   },
   "outputs": [
    {
     "name": "stdout",
     "output_type": "stream",
     "text": [
      "(4359, 9)\n"
     ]
    }
   ],
   "source": [
    "df_churn_flag_0= df1[df1['churn_flag'] ==0]\n",
    "print(df_churn_flag_0.shape)"
   ]
  },
  {
   "cell_type": "markdown",
   "metadata": {},
   "source": [
    "# Step 5 : Model for Target--->Churn"
   ]
  },
  {
   "cell_type": "code",
   "execution_count": 73,
   "metadata": {},
   "outputs": [],
   "source": [
    "df2 = df1.copy()"
   ]
  },
  {
   "cell_type": "code",
   "execution_count": 74,
   "metadata": {},
   "outputs": [],
   "source": [
    "df1 = df1.drop('churn_Risk_score',axis=1)\n",
    "df1 = df1.drop('churn_flag',axis=1)"
   ]
  },
  {
   "cell_type": "code",
   "execution_count": 75,
   "metadata": {},
   "outputs": [],
   "source": [
    "# Create train and test splits\n",
    "target_name = 'churn'\n",
    "X = df1.drop('churn', axis=1)\n",
    "y = df1[target_name]"
   ]
  },
  {
   "cell_type": "code",
   "execution_count": 76,
   "metadata": {},
   "outputs": [
    {
     "name": "stdout",
     "output_type": "stream",
     "text": [
      "(3693, 6)\n",
      "(924, 6)\n",
      "(3693,)\n",
      "(924,)\n"
     ]
    }
   ],
   "source": [
    "from sklearn.model_selection import train_test_split\n",
    "X_train, X_test, y_train, y_test = train_test_split(X,y,test_size=0.20, random_state=123, stratify=y)\n",
    "print(X_train.shape)\n",
    "print(X_test.shape)\n",
    "print(y_train.shape)\n",
    "print(y_test.shape)"
   ]
  },
  {
   "cell_type": "code",
   "execution_count": 77,
   "metadata": {},
   "outputs": [],
   "source": [
    "from sklearn.metrics import roc_auc_score\n",
    "\n",
    "from sklearn.naive_bayes import GaussianNB\n",
    "from sklearn.neural_network import MLPClassifier\n",
    "from sklearn.ensemble import AdaBoostClassifier\n",
    "\n",
    "# Import Different Models \n",
    "from sklearn.linear_model import LogisticRegression\n",
    "from sklearn import svm, tree\n",
    "from sklearn.neighbors import KNeighborsClassifier\n",
    "from sklearn.ensemble import RandomForestClassifier\n",
    "import xgboost\n",
    "from sklearn.metrics import accuracy_score, classification_report\n",
    "from sklearn.model_selection import GridSearchCV, RandomizedSearchCV\n",
    "import joblib \n",
    "# Python script for confusion matrix creation. \n",
    "from sklearn.metrics import confusion_matrix \n",
    "from sklearn.metrics import accuracy_score \n",
    "from sklearn.metrics import classification_report "
   ]
  },
  {
   "cell_type": "code",
   "execution_count": 78,
   "metadata": {
    "scrolled": true
   },
   "outputs": [
    {
     "data": {
      "text/plain": [
       "0       0\n",
       "1       0\n",
       "2       0\n",
       "3       0\n",
       "4       0\n",
       "       ..\n",
       "4612    0\n",
       "4613    0\n",
       "4614    0\n",
       "4615    0\n",
       "4616    0\n",
       "Name: churn, Length: 4617, dtype: int64"
      ]
     },
     "execution_count": 78,
     "metadata": {},
     "output_type": "execute_result"
    }
   ],
   "source": [
    "# Create train and test splits\n",
    "target_name = 'churn'\n",
    "y = df1[target_name]\n",
    "y"
   ]
  },
  {
   "cell_type": "code",
   "execution_count": 79,
   "metadata": {},
   "outputs": [],
   "source": [
    "from sklearn.ensemble import RandomForestClassifier\n",
    "import xgboost\n",
    "from sklearn.metrics import accuracy_score, classification_report\n",
    "from sklearn.metrics import roc_auc_score"
   ]
  },
  {
   "cell_type": "code",
   "execution_count": 80,
   "metadata": {},
   "outputs": [
    {
     "name": "stdout",
     "output_type": "stream",
     "text": [
      "[0.97835498 0.98051948 0.96103896 0.98484848 0.98484848 0.97619048\n",
      " 0.98268398 0.98047722 0.97180043 0.98698482]\n",
      "Accuracy: 0.98 (+/- 0.01)\n"
     ]
    }
   ],
   "source": [
    "# Using 10 fold Cross-Validation to train our RandomForestClassifier\n",
    "from sklearn.model_selection import cross_val_score\n",
    "\n",
    "model4 = RandomForestClassifier()\n",
    "#The F1 score can be interpreted as a weighted average of the precision and recall, where an F1 score reaches its \n",
    "#best value at 1 and worst score at 0. The relative contribution of precision and recall to the F1 score are equal. \n",
    "scores = cross_val_score(model4 ,X, y, cv=10,scoring='f1_micro')\n",
    "print(scores)\n",
    "#The mean score and the 95% confidence interval of the score estimate are hence given by:\n",
    "print(\"Accuracy: %0.2f (+/- %0.2f)\" % (scores.mean(), scores.std() * 2))"
   ]
  },
  {
   "cell_type": "code",
   "execution_count": 235,
   "metadata": {},
   "outputs": [
    {
     "name": "stdout",
     "output_type": "stream",
     "text": [
      "Confusion Matrix :\n",
      "[[871   1]\n",
      " [ 17 127]]\n",
      "Accuracy Score : 0.9822834645669292\n",
      "---classification_report---\n",
      "              precision    recall  f1-score   support\n",
      "\n",
      "           0       0.98      1.00      0.99       872\n",
      "           1       0.99      0.88      0.93       144\n",
      "\n",
      "    accuracy                           0.98      1016\n",
      "   macro avg       0.99      0.94      0.96      1016\n",
      "weighted avg       0.98      0.98      0.98      1016\n",
      "\n"
     ]
    }
   ],
   "source": [
    "# xgboost Forest Model\n",
    "from sklearn.ensemble import RandomForestClassifier\n",
    "rf = RandomForestClassifier()\n",
    "rf.fit(X_train, y_train)\n",
    "print('Confusion Matrix :')\n",
    "print(confusion_matrix(y_test, rf.predict(X_test)))\n",
    "print( 'Accuracy Score :',accuracy_score(y_test, rf.predict(X_test)) )\n",
    "print( '---classification_report---')\n",
    "print(classification_report(y_test, rf.predict(X_test)))"
   ]
  },
  {
   "cell_type": "code",
   "execution_count": 82,
   "metadata": {},
   "outputs": [
    {
     "name": "stdout",
     "output_type": "stream",
     "text": [
      "[0.98051948 0.98484848 0.96320346 0.98484848 0.98484848 0.97619048\n",
      " 0.98268398 0.98047722 0.97180043 0.98698482]\n",
      "Accuracy: 0.98 (+/- 0.01)\n"
     ]
    }
   ],
   "source": [
    "# Using 10 fold Cross-Validation to train our  XGBClassifier\n",
    "from sklearn.model_selection import cross_val_score\n",
    "\n",
    "model1 = xgboost.XGBClassifier()\n",
    "#scoring = 'roc_auc'\n",
    "#The F1 score can be interpreted as a weighted average of the precision and recall, where an F1 score reaches its \n",
    "#best value at 1 and worst score at 0. The relative contribution of precision and recall to the F1 score are equal. \n",
    "scores = cross_val_score(model1 ,X, y, cv=10,scoring='f1_micro')\n",
    "print(scores)\n",
    "#The mean score and the 95% confidence interval of the score estimate are hence given by:\n",
    "print(\"Accuracy: %0.2f (+/- %0.2f)\" % (scores.mean(), scores.std() * 2))"
   ]
  },
  {
   "cell_type": "code",
   "execution_count": 214,
   "metadata": {},
   "outputs": [
    {
     "name": "stdout",
     "output_type": "stream",
     "text": [
      "---Confusion Matrix---\n",
      "[[872   0]\n",
      " [ 16 128]]\n",
      "\n",
      "\n",
      "Accuracy Score :--> 0.984251968503937\n",
      "\n",
      "\n",
      "---classification_report---\n",
      "              precision    recall  f1-score   support\n",
      "\n",
      "           0       0.98      1.00      0.99       872\n",
      "           1       1.00      0.89      0.94       144\n",
      "\n",
      "    accuracy                           0.98      1016\n",
      "   macro avg       0.99      0.94      0.97      1016\n",
      "weighted avg       0.98      0.98      0.98      1016\n",
      "\n"
     ]
    }
   ],
   "source": [
    "# xgboost Forest Model\n",
    "import xgboost\n",
    "xgb = xgboost.XGBClassifier()\n",
    "xgb.fit(X_train, y_train)\n",
    "print('---Confusion Matrix---')\n",
    "print(confusion_matrix(y_test, xgb.predict(X_test)))\n",
    "print('\\n')\n",
    "print( 'Accuracy Score :-->',accuracy_score(y_test, xgb.predict(X_test)) )\n",
    "print('\\n')\n",
    "print( '---classification_report---')\n",
    "print(classification_report(y_test, xgb.predict(X_test)))"
   ]
  },
  {
   "cell_type": "code",
   "execution_count": 236,
   "metadata": {},
   "outputs": [
    {
     "data": {
      "text/plain": [
       "['Xbgboost_Classifier_No-Churn Telecom_predict_Churn.pkl']"
      ]
     },
     "execution_count": 236,
     "metadata": {},
     "output_type": "execute_result"
    }
   ],
   "source": [
    "# Save the model as a pickle in a file \n",
    "joblib.dump(xgb, 'Xbgboost_Classifier_No-Churn Telecom_predict_Churn.pkl')       \n",
    "#joblib.dump to serialize an object hierarchy"
   ]
  },
  {
   "cell_type": "code",
   "execution_count": null,
   "metadata": {},
   "outputs": [],
   "source": []
  }
 ],
 "metadata": {
  "kernelspec": {
   "display_name": "Python 3",
   "language": "python",
   "name": "python3"
  },
  "language_info": {
   "codemirror_mode": {
    "name": "ipython",
    "version": 3
   },
   "file_extension": ".py",
   "mimetype": "text/x-python",
   "name": "python",
   "nbconvert_exporter": "python",
   "pygments_lexer": "ipython3",
   "version": "3.7.5"
  }
 },
 "nbformat": 4,
 "nbformat_minor": 2
}
